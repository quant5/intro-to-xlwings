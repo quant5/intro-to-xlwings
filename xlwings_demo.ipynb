{
 "cells": [
  {
   "cell_type": "markdown",
   "metadata": {},
   "source": [
    "## xlwings quick demo\n",
    "\n",
    "What is xlwings? xlwings is a BSD-licensed Python library that makes it easy to call Python from Excel and vice versa.\n",
    "\n",
    "https://github.com/ZoomerAnalytics/xlwings"
   ]
  },
  {
   "cell_type": "code",
   "execution_count": null,
   "metadata": {
    "collapsed": true
   },
   "outputs": [],
   "source": [
    "import xlwings as xw"
   ]
  },
  {
   "cell_type": "markdown",
   "metadata": {},
   "source": [
    "### Basics\n",
    "\n",
    "The xlwings object model is very similar to the one used by VBA."
   ]
  },
  {
   "cell_type": "code",
   "execution_count": null,
   "metadata": {
    "collapsed": false
   },
   "outputs": [],
   "source": [
    "wb = xw.Book('myproject.xlsm')\n",
    "sh = wb.sheets['demo']\n",
    "sh.range('A3').value = 1\n",
    "print(sh.range('A3').value)"
   ]
  },
  {
   "cell_type": "code",
   "execution_count": null,
   "metadata": {
    "collapsed": false
   },
   "outputs": [],
   "source": [
    "sh.range('A3:C4').value = [[1, 2, 3], [4, 5, 6]]\n",
    "print(sh.range('A3:C4').value)"
   ]
  },
  {
   "cell_type": "code",
   "execution_count": null,
   "metadata": {
    "collapsed": false
   },
   "outputs": [],
   "source": [
    "sh.range('A3').value = [(1, 2, 3), (4, 5, 6)]\n",
    "print(sh.range('A3').expand().value)"
   ]
  },
  {
   "cell_type": "code",
   "execution_count": null,
   "metadata": {
    "collapsed": true
   },
   "outputs": [],
   "source": [
    "sh.range('A6').formula = '=SUM(A3:C3)'"
   ]
  },
  {
   "cell_type": "code",
   "execution_count": null,
   "metadata": {
    "collapsed": false
   },
   "outputs": [],
   "source": [
    "# good news: fully compatible with pandas\n",
    "\n",
    "import pandas as pd\n",
    "import numpy as np\n",
    "\n",
    "dates = pd.date_range('20130101', periods=6)\n",
    "df = pd.DataFrame(np.random.randn(6,4), index=dates, columns=list('ABCD'))\n",
    "sh.range('A3').value = df"
   ]
  },
  {
   "cell_type": "code",
   "execution_count": null,
   "metadata": {
    "collapsed": true
   },
   "outputs": [],
   "source": [
    "sh.range('A3:G10').clear_contents()  # clears contents only\n",
    "sh.range('A3:G10').clear()  # clears formatting too"
   ]
  },
  {
   "cell_type": "markdown",
   "metadata": {},
   "source": [
    "### Visualizations\n",
    "\n",
    "You can add plots either natively through excel, or \"paste\" a Matplotlib plot as a picture.\n",
    "\n",
    "http://docs.xlwings.org/en/stable/matplotlib.html"
   ]
  },
  {
   "cell_type": "code",
   "execution_count": null,
   "metadata": {
    "collapsed": true
   },
   "outputs": [],
   "source": [
    "sh.range('A3:C4').value = [[1, 2, 3], [4, 5, 6]]\n",
    "chart = sh.charts.add(left=50, top=100)\n",
    "chart.set_source_data(sh.range('A3').expand())a"
   ]
  },
  {
   "cell_type": "code",
   "execution_count": null,
   "metadata": {
    "collapsed": false
   },
   "outputs": [],
   "source": [
    "import matplotlib.pyplot as plt\n",
    "\n",
    "fig = plt.figure()\n",
    "plt.plot([1, 2, 3, 4, 10])\n",
    "plot = sh.pictures.add(\n",
    "    fig, name='MyPlot',\n",
    "    left=sh.range('H1').left, top=sh.range('H1').top,\n",
    "    update=True)"
   ]
  },
  {
   "cell_type": "code",
   "execution_count": null,
   "metadata": {
    "collapsed": false
   },
   "outputs": [],
   "source": [
    "plot.height /= 2"
   ]
  },
  {
   "cell_type": "code",
   "execution_count": null,
   "metadata": {
    "collapsed": false
   },
   "outputs": [],
   "source": [
    "plot.delete()\n",
    "chart.delete()"
   ]
  },
  {
   "cell_type": "markdown",
   "metadata": {},
   "source": [
    "### Under the hood\n",
    "\n",
    "* application object: http://docs.xlwings.org/en/stable/api.html#app\n",
    "* workbook object: http://docs.xlwings.org/en/stable/api.html#book\n",
    "* sheet object: http://docs.xlwings.org/en/stable/api.html#sheet"
   ]
  },
  {
   "cell_type": "code",
   "execution_count": null,
   "metadata": {
    "collapsed": true
   },
   "outputs": [],
   "source": [
    "app = xw.App()"
   ]
  },
  {
   "cell_type": "code",
   "execution_count": null,
   "metadata": {
    "collapsed": false
   },
   "outputs": [],
   "source": [
    "print(xw.apps)\n",
    "print(app.version)"
   ]
  },
  {
   "cell_type": "code",
   "execution_count": null,
   "metadata": {
    "collapsed": false
   },
   "outputs": [],
   "source": [
    "print(app.visible)\n",
    "print(app.screen_updating)"
   ]
  },
  {
   "cell_type": "code",
   "execution_count": null,
   "metadata": {
    "collapsed": false
   },
   "outputs": [],
   "source": [
    "wb.fullname"
   ]
  },
  {
   "cell_type": "code",
   "execution_count": null,
   "metadata": {
    "collapsed": false
   },
   "outputs": [],
   "source": [
    "# select some stuff in excel first and run:\n",
    "wb.selection.value"
   ]
  },
  {
   "cell_type": "code",
   "execution_count": null,
   "metadata": {
    "collapsed": false,
    "scrolled": false
   },
   "outputs": [],
   "source": [
    "# you can also do all the macro type functions like activate, select, etc\n",
    "wb.save()\n",
    "# wb.close()"
   ]
  },
  {
   "cell_type": "code",
   "execution_count": null,
   "metadata": {
    "collapsed": false
   },
   "outputs": [],
   "source": [
    "# sheets: mainly used to select ranges. can also activate, select, etc\n",
    "wb.sheets['hello world'].activate()"
   ]
  },
  {
   "cell_type": "markdown",
   "metadata": {},
   "source": [
    "### Making excel \"run\" python\n",
    "\n",
    "* set up a .py file with the same name as your excel file\n",
    "* xlwings quickstart myproject\n",
    "* in myproject.py, code up your function\n",
    "* in myproject.xlsm, write your macro to call the function\n",
    "\n",
    "```\n",
    "Sub HelloWorld()\n",
    "    RunPython (\"import myproject; myproject.hello_world()\")\n",
    "End Sub\n",
    "```\n",
    "\n",
    "* To reference the calling book when using RunPython in VBA, use xw.Book.caller()\n",
    "    * this function does not work outside of running python in excel."
   ]
  },
  {
   "cell_type": "markdown",
   "metadata": {
    "collapsed": true
   },
   "source": [
    "### xlwings use cases\n",
    "\n",
    "**Use case #1: calling databases**\n",
    "\n",
    "You can use sqlalchemy or pandas to call straight from a database and store the results in excel in one step.\n",
    "\n",
    "**Use case #2: user-defined functions**\n",
    "\n",
    "You can apply the `@xw.func` decorator to create excel UDFs that run on Python."
   ]
  },
  {
   "cell_type": "markdown",
   "metadata": {},
   "source": [
    "### Tips\n",
    "\n",
    "* As is the case for running macros, **undo doesn't work** with xlwings!\n",
    "* You can combine things python is good at (e.g., stats, large datasets) with things excel is good at (e.g., pivot tables, on the fly changes)\n",
    "* Other python <> excel modules:\n",
    "    * openpyxl: the recommended package for reading and writing (xlsx)\n",
    "    * xlsxwriter: An alternative package for writing data, formatting information and, in particular, charts (xlsx)\n",
    "    * xlrd: for reading data and formatting information for older Excel files (xls)\n",
    "    * xlwt: for writing data and formatting information for older Excel files (xls)"
   ]
  }
 ],
 "metadata": {
  "kernelspec": {
   "display_name": "Python 3",
   "language": "python",
   "name": "python3"
  },
  "language_info": {
   "codemirror_mode": {
    "name": "ipython",
    "version": 3
   },
   "file_extension": ".py",
   "mimetype": "text/x-python",
   "name": "python",
   "nbconvert_exporter": "python",
   "pygments_lexer": "ipython3",
   "version": "3.6.0"
  }
 },
 "nbformat": 4,
 "nbformat_minor": 2
}
